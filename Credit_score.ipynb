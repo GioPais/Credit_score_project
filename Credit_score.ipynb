{
 "cells": [
  {
   "cell_type": "markdown",
   "metadata": {},
   "source": [
    "# Proyecto: Clasificación de Actividades"
   ]
  },
  {
   "cell_type": "markdown",
   "metadata": {},
   "source": [
    "## Importación de Datos"
   ]
  },
  {
   "cell_type": "code",
   "execution_count": 1,
   "metadata": {},
   "outputs": [],
   "source": [
    "import pandas as pd\n",
    "from sklearn.model_selection import train_test_split\n",
    "from sklearn.neural_network import MLPClassifier\n",
    "from sklearn.metrics import confusion_matrix\n",
    "import matplotlib.pyplot as plt\n",
    "import sklearn as skl\n",
    "import numpy as np\n",
    "import scipy as sci\n",
    "from scipy.stats import mode\n",
    "import re\n",
    "\n",
    "raw=pd.read_csv('CREDITRISK_RAW.csv',delimiter=';',header=None)\n",
    "\n",
    "#print(raw)\n",
    "\n",
    "def get_stats(raw):\n",
    "    data=raw.as_matrix()\n",
    "    #print(data)\n",
    "    PAGA_count=0\n",
    "    x,y=[],[]\n",
    "    for i in range(1,len(data)):\n",
    "        xi,yi=[],[]\n",
    "        for j in range(0,len(data[0])-1):\n",
    "            xi.append(data[i][j])\n",
    "        yi.append(data[i][len(data[0])-1])\n",
    "        x.append(xi)\n",
    "        y.append(yi)\n",
    "     \n",
    "    print(\"Cantidad de datos: {}\".format(len(x)))\n",
    "    print(\"Cantidad de características: {}\".format(len(x[0])))\n",
    "    #print(y[0])\n",
    "    for i in range(0,len(y)):\n",
    "        if y[i][0]=='PAGA':\n",
    "            PAGA_count+=1\n",
    "    print(\"Cuantos clientes pagan: {}/{}:\".format(PAGA_count,len(data)))\n",
    "    return\n",
    "\n"
   ]
  },
  {
   "cell_type": "code",
   "execution_count": null,
   "metadata": {},
   "outputs": [],
   "source": []
  },
  {
   "cell_type": "code",
   "execution_count": 2,
   "metadata": {},
   "outputs": [
    {
     "name": "stdout",
     "output_type": "stream",
     "text": [
      "Cantidad de datos: 2239\n",
      "Cantidad de características: 19\n",
      "Cuantos clientes pagan: 1098/2240:\n"
     ]
    },
    {
     "name": "stderr",
     "output_type": "stream",
     "text": [
      "D:\\Anaconda3\\lib\\site-packages\\ipykernel_launcher.py:17: FutureWarning: Method .as_matrix will be removed in a future version. Use .values instead.\n"
     ]
    }
   ],
   "source": [
    "from sklearn.preprocessing import LabelEncoder, OneHotEncoder\n",
    "\n",
    "dataset = pd.read_csv('CREDITRISK_RAW.csv',delimiter=';')\n",
    "dataset=dataset.dropna()\n",
    "features = dataset.iloc[:, [1,2,3,4,5,6,7,8,9,10,11,12,13,14,15,16,17,18]]\n",
    "y_data = dataset.iloc[:, [19]]\n",
    "#data=dataset.as_matrix()\n",
    "\n",
    "get_stats(dataset)\n",
    "\n"
   ]
  },
  {
   "cell_type": "code",
   "execution_count": 3,
   "metadata": {},
   "outputs": [
    {
     "name": "stdout",
     "output_type": "stream",
     "text": [
      "2240\n",
      "2240\n"
     ]
    },
    {
     "name": "stderr",
     "output_type": "stream",
     "text": [
      "D:\\Anaconda3\\lib\\site-packages\\sklearn\\preprocessing\\label.py:111: DataConversionWarning: A column-vector y was passed when a 1d array was expected. Please change the shape of y to (n_samples, ), for example using ravel().\n",
      "  y = column_or_1d(y, warn=True)\n"
     ]
    }
   ],
   "source": [
    "#target\n",
    "#print(y_data)\n",
    "print(len(y_data))\n",
    "#y_data=y_data[1:len(y_data)]\n",
    "labelencoder_y = LabelEncoder()\n",
    "y_data = labelencoder_y.fit_transform(y_data)\n",
    "\n",
    "print(len(y_data))\n",
    "#-----------------------------------------------------------------------------\n",
    "#Genero\n",
    "gen = dataset.iloc[:, [1]]\n",
    "\n",
    "#gen = gen[1:len(gen)]\n",
    "\n",
    "labelencoder_edad = LabelEncoder()\n",
    "gen = labelencoder_edad.fit_transform(gen)\n",
    "#------------------------------------------------------------------------------\n",
    "#Edad\n",
    "edad = dataset.iloc[:, [3]]\n",
    "\n",
    "#edad = edad[1:len(edad)]\n",
    "\n",
    "#------------------------------------------------------------------------------\n",
    "#Nivel Educacional\n",
    "niv_ed = dataset.iloc[:, [4]]\n",
    "\n",
    "#niv_ed = niv_ed[1:len(niv_ed)]\n",
    "\n",
    "#------------------------------------------------------------------------------\n",
    "#Nivel Educacional\n",
    "renta = dataset.iloc[:, [2]]\n",
    "\n",
    "#renta = renta[1:len(renta)]\n",
    "\n",
    "#------------------------------------------------------------------------------\n",
    "#Monto solicitado\n",
    "monto = dataset.iloc[:, [13]]\n",
    "\n",
    "#monto = monto[1:len(monto)]\n",
    "\n",
    "#------------------------------------------------------------------------------\n",
    "#Nivel Educacional\n",
    "dias_mora = dataset.iloc[:, [14]]\n",
    "\n",
    "#dias_mora = dias_mora[1:len(dias_mora)]\n",
    "\n",
    "#labelencoder_gen = LabelEncoder()\n",
    "#gen = labelencoder_edad.fit_transform(gen)\n",
    "\n"
   ]
  },
  {
   "cell_type": "code",
   "execution_count": 4,
   "metadata": {},
   "outputs": [
    {
     "data": {
      "image/png": "[encoded data removed]",
      "text/plain": [
       "<Figure size 432x288 with 1 Axes>"
      ]
     },
     "metadata": {},
     "output_type": "display_data"
    }
   ],
   "source": [
    "#grafico Genero\n",
    "M_P,F_P,M_NP,F_NP=0,0,0,0\n",
    "\n",
    "for i in range(0,len(y_data)):\n",
    "    #mujer\n",
    "    if gen[i]==0:\n",
    "        if y_data[i]==1:\n",
    "            F_P+=1\n",
    "        else:\n",
    "            F_NP+=1\n",
    "    #hombre\n",
    "    if gen[i]==1:\n",
    "        if y_data[i]==1:\n",
    "            M_P+=1\n",
    "        else:\n",
    "            M_NP+=1\n",
    "            \n",
    "            \n",
    "from matplotlib.ticker import MaxNLocator\n",
    "from collections import namedtuple\n",
    "\n",
    "n_groups = 2\n",
    "\n",
    "men = (M_P, M_NP)\n",
    "women = (F_P, F_NP)\n",
    "\n",
    "fig, ax = plt.subplots()\n",
    "\n",
    "index = np.arange(n_groups)\n",
    "bar_width = 0.35\n",
    "\n",
    "opacity = 0.5\n",
    "error_config = {'ecolor': '0.3'}\n",
    "\n",
    "rects1 = ax.bar(index, men, bar_width,\n",
    "                alpha=opacity, color='b', error_kw=error_config,\n",
    "                label='Hombres')\n",
    "\n",
    "rects2 = ax.bar(index + bar_width, women, bar_width,\n",
    "                alpha=opacity, color='r', error_kw=error_config,\n",
    "                label='Mujeres')\n",
    "\n",
    "ax.set_xlabel('Genero')\n",
    "ax.set_ylabel('Cantidad')\n",
    "ax.set_title('Paga según genero')\n",
    "ax.set_xticks(index + bar_width / 2)\n",
    "ax.set_xticklabels(('Paga', 'No Paga'))\n",
    "ax.legend()\n",
    "\n",
    "fig.tight_layout()\n",
    "plt.show()"
   ]
  },
  {
   "cell_type": "code",
   "execution_count": 5,
   "metadata": {},
   "outputs": [
    {
     "data": {
      "image/png": "[encoded data removed]",
      "text/plain": [
       "<Figure size 432x288 with 1 Axes>"
      ]
     },
     "metadata": {},
     "output_type": "display_data"
    }
   ],
   "source": [
    "#grafico Genero\n",
    "\n",
    "edad_arr=edad.values\n",
    "edad_arr=np.reshape(edad_arr,-1)\n",
    "\n",
    "P_20,NP_20,P_30,NP_30,P_40,NP_40,P_50,NP_50=0,0,0,0,0,0,0,0\n",
    "\n",
    "for i in range(0,len(y_data)):\n",
    "    #mujer\n",
    "    if int(edad_arr[i])>=20 and int(edad_arr[i])<30:\n",
    "        if y_data[i]==1:\n",
    "            P_20+=1\n",
    "        else:\n",
    "            NP_20+=1\n",
    "    if int(edad_arr[i])>=30 and int(edad_arr[i])<40:\n",
    "        if y_data[i]==1:\n",
    "            P_30+=1\n",
    "        else:\n",
    "            NP_30+=1\n",
    "    if int(edad_arr[i])>=40 and int(edad_arr[i])<50:\n",
    "        if y_data[i]==1:\n",
    "            P_40+=1\n",
    "        else:\n",
    "            NP_40+=1\n",
    "    if int(edad_arr[i])>=50 :\n",
    "        if y_data[i]==1:\n",
    "            P_50+=1\n",
    "        else:\n",
    "            NP_50+=1\n",
    "    \n",
    "\n",
    "n_groups = 4\n",
    "\n",
    "P_edad = (P_20, P_30,P_40, P_50)\n",
    "NP_edad = (NP_20, NP_30,NP_40, NP_50)\n",
    "\n",
    "fig, ax = plt.subplots()\n",
    "\n",
    "index = np.arange(n_groups)\n",
    "bar_width = 0.35\n",
    "\n",
    "opacity = 0.5\n",
    "error_config = {'ecolor': '0.3'}\n",
    "\n",
    "rects1 = ax.bar(index, P_edad, bar_width,\n",
    "                alpha=opacity, color='b', error_kw=error_config,\n",
    "                label='Paga')\n",
    "\n",
    "rects2 = ax.bar(index + bar_width, NP_edad, bar_width,\n",
    "                alpha=opacity, color='r', error_kw=error_config,\n",
    "                label='No Paga')\n",
    "\n",
    "ax.set_xlabel('Rango de edad')\n",
    "ax.set_ylabel('Cantidad')\n",
    "ax.set_title('Paga según edad')\n",
    "ax.set_xticks(index + bar_width / 2)\n",
    "ax.set_xticklabels(('20-30', '30-40','40-50', '50-'))\n",
    "ax.legend()\n",
    "\n",
    "fig.tight_layout()\n",
    "plt.show()"
   ]
  },
  {
   "cell_type": "code",
   "execution_count": 6,
   "metadata": {},
   "outputs": [
    {
     "name": "stderr",
     "output_type": "stream",
     "text": [
      "D:\\Anaconda3\\lib\\site-packages\\ipykernel_launcher.py:3: FutureWarning: Method .as_matrix will be removed in a future version. Use .values instead.\n",
      "  This is separate from the ipykernel package so we can avoid doing imports until\n"
     ]
    },
    {
     "data": {
      "image/png": "[encoded data removed]",
      "text/plain": [
       "<Figure size 432x288 with 1 Axes>"
      ]
     },
     "metadata": {},
     "output_type": "display_data"
    }
   ],
   "source": [
    "#grafico Nivel Educacional\n",
    "\n",
    "niv_ed_arr=niv_ed.as_matrix()\n",
    "niv_ed_arr=np.reshape(niv_ed_arr,-1)\n",
    "\n",
    "P_Med, NP_Med, P_Tec, NP_Tec, P_Uni, NP_Uni = 0, 0, 0, 0, 0, 0 \n",
    "\n",
    "for i in range(0,len(y_data)):\n",
    "    nivel = str(niv_ed_arr[i])\n",
    "    nivel = re.sub(' +','',nivel)\n",
    "    if nivel.upper() == 'MED':        \n",
    "        if y_data[i]==1:\n",
    "            P_Med+=1\n",
    "        else:\n",
    "            NP_Med+=1\n",
    "    #Tec\n",
    "    if nivel.upper() == 'TEC':\n",
    "        if y_data[i]==1:\n",
    "            P_Tec+=1\n",
    "        else:\n",
    "            NP_Tec+=1\n",
    "    #Uni\n",
    "    if nivel.upper() == 'UNV':\n",
    "        if y_data[i]==1:\n",
    "            P_Uni+=1\n",
    "        else:\n",
    "            NP_Uni+=1\n",
    "\n",
    "    \n",
    "\n",
    "n_groups = 3\n",
    "\n",
    "P_niv_ed = (P_Med, P_Tec, P_Uni)\n",
    "NP_niv_ed = (NP_Med, NP_Tec, NP_Uni)\n",
    "\n",
    "fig, ax = plt.subplots()\n",
    "\n",
    "index = np.arange(n_groups)\n",
    "bar_width = 0.35\n",
    "\n",
    "opacity = 0.5\n",
    "error_config = {'ecolor': '0.3'}\n",
    "\n",
    "rects1 = ax.bar(index, P_niv_ed, bar_width,\n",
    "                alpha=opacity, color='b', error_kw=error_config,\n",
    "                label='Paga')\n",
    "\n",
    "rects2 = ax.bar(index + bar_width, NP_niv_ed, bar_width,\n",
    "                alpha=opacity, color='r', error_kw=error_config,\n",
    "                label='No Paga')\n",
    "\n",
    "ax.set_xlabel('Nivel Educacional')\n",
    "ax.set_ylabel('Cantidad')\n",
    "ax.set_title('Paga según Nivel Educacional')\n",
    "ax.set_xticks(index + bar_width / 2)\n",
    "ax.set_xticklabels(('Media', 'Técnico','Universitario'))\n",
    "ax.legend()\n",
    "\n",
    "fig.tight_layout()\n",
    "plt.show()"
   ]
  },
  {
   "cell_type": "code",
   "execution_count": 7,
   "metadata": {},
   "outputs": [
    {
     "name": "stderr",
     "output_type": "stream",
     "text": [
      "D:\\Anaconda3\\lib\\site-packages\\ipykernel_launcher.py:3: FutureWarning: Method .as_matrix will be removed in a future version. Use .values instead.\n",
      "  This is separate from the ipykernel package so we can avoid doing imports until\n"
     ]
    },
    {
     "data": {
      "image/png": "[encoded data removed]",
      "text/plain": [
       "<Figure size 432x288 with 1 Axes>"
      ]
     },
     "metadata": {},
     "output_type": "display_data"
    }
   ],
   "source": [
    "#grafico Mora\n",
    "\n",
    "dias_mora_arr=dias_mora.as_matrix()\n",
    "dias_mora_arr=np.reshape(dias_mora_arr,-1)\n",
    "P_m, NP_m, P_nm, NP_nm = 0,0,0,0\n",
    "\n",
    "for i in range(0,len(y_data)):\n",
    "    #0 días\n",
    "    if int(dias_mora_arr[i])==0:\n",
    "        if y_data[i]==1:\n",
    "            P_nm+=1\n",
    "        else:\n",
    "            NP_nm+=1\n",
    "    if int(dias_mora_arr[i])>0 :\n",
    "        if y_data[i]==1:\n",
    "            P_m+=1\n",
    "        else:\n",
    "            NP_m+=1\n",
    "    \n",
    "\n",
    "n_groups = 2\n",
    "\n",
    "P_dias_mora = (P_m, P_nm)\n",
    "NP_dias_mora = (NP_m, NP_nm)\n",
    "\n",
    "fig, ax = plt.subplots()\n",
    "\n",
    "index = np.arange(n_groups)\n",
    "bar_width = 0.35\n",
    "\n",
    "opacity = 0.5\n",
    "error_config = {'ecolor': '0.3'}\n",
    "\n",
    "rects1 = ax.bar(index, P_dias_mora, bar_width,\n",
    "                alpha=opacity, color='b', error_kw=error_config,\n",
    "                label='Paga')\n",
    "\n",
    "rects2 = ax.bar(index + bar_width, NP_dias_mora, bar_width,\n",
    "                alpha=opacity, color='r', error_kw=error_config,\n",
    "                label='No Paga')\n",
    "\n",
    "ax.set_xlabel('Usuarios con y sin Mora')\n",
    "ax.set_ylabel('Cantidad')\n",
    "ax.set_title('Paga según tiene Mora')\n",
    "ax.set_xticks(index + bar_width / 2)\n",
    "ax.set_xticklabels(('Con mora','Sin mora'))\n",
    "ax.legend()\n",
    "\n",
    "fig.tight_layout()\n",
    "plt.show()"
   ]
  },
  {
   "cell_type": "code",
   "execution_count": 8,
   "metadata": {},
   "outputs": [
    {
     "name": "stdout",
     "output_type": "stream",
     "text": [
      "10.55\n",
      "10\n",
      "[142.  16.   0. ... 974.   0. 239.]\n",
      "7.96\n",
      "<class 'numpy.float64'>\n",
      "[142.  16.   0. ... 974.   0. 239.]\n",
      "7960.0\n",
      "<class 'numpy.float64'>\n"
     ]
    },
    {
     "data": {
      "image/png": "[encoded data removed]",
      "text/plain": [
       "<Figure size 432x288 with 1 Axes>"
      ]
     },
     "metadata": {},
     "output_type": "display_data"
    }
   ],
   "source": [
    "# MONTO vs RENTA\n",
    "\n",
    "renta_arr=renta.values\n",
    "renta_arr=np.reshape(renta_arr,-1)\n",
    "\n",
    "monto_arr=monto.values\n",
    "monto_arr=np.reshape(monto_arr,-1)\n",
    "\n",
    "#print(renta_arr)\n",
    "#print(type(renta_arr[0]))\n",
    "\n",
    "a=10.55\n",
    "print(a)\n",
    "print(int(a))\n",
    "\n",
    "print(monto_arr)\n",
    "print(monto_arr[4])\n",
    "print(type(monto_arr[0]))\n",
    "\n",
    "monto_P,monto_NP=[],[]\n",
    "renta_P,renta_NP=[],[]\n",
    "\n",
    "renta_arr = [w.replace('.', '') for w in renta_arr]\n",
    "\n",
    "for i in range(0,len(monto_arr)):\n",
    "    if monto_arr[i]-int(monto_arr[i])>0.0:\n",
    "        monto_arr[i]=monto_arr[i]*1000\n",
    "    \n",
    "\n",
    "#monto_arr = [str(w) for w in monto_arr]\n",
    "#monto_arr = [w.replace('.', '') for w in monto_arr]\n",
    "\n",
    "\n",
    "#print(renta_arr)\n",
    "#print(type(renta_arr[0]))\n",
    "\n",
    "print(monto_arr)\n",
    "print(monto_arr[4])\n",
    "print(type(monto_arr[0]))\n",
    "\n",
    "for i in range(0,len(renta_arr)):\n",
    "    \n",
    "    if y_data[i]==1:\n",
    "        monto_P.append(int(monto_arr[i]))\n",
    "        renta_P.append(int(renta_arr[i]))\n",
    "    else:\n",
    "        monto_NP.append(int(monto_arr[i]))\n",
    "        renta_NP.append(int(renta_arr[i]))\n",
    "        \n",
    "#words = [w.replace('[br]', '<br />') for w in words]\n",
    "\n",
    "    \n",
    "#renta_arr = [int(i) for i in renta_arr]\n",
    "\n",
    "#monto_arr = [int(i) for i in monto_arr]\n",
    "\n",
    "plt.scatter(renta_P,monto_P)\n",
    "plt.scatter(renta_NP,monto_NP)\n",
    "plt.legend(['Paga','No Paga'])\n",
    "plt.show()"
   ]
  },
  {
   "cell_type": "code",
   "execution_count": 9,
   "metadata": {},
   "outputs": [
    {
     "data": {
      "text/plain": [
       "GENERO                       object\n",
       "RENTA                        object\n",
       "EDAD                        float64\n",
       "NIV_EDUC                     object\n",
       "E_CIVIL                      object\n",
       "COD_OFI                       int64\n",
       "COD_COM                      object\n",
       "CIUDAD                       object\n",
       "Crédito_1                    object\n",
       "Crédito_2                    object\n",
       "Crédito_3                    object\n",
       "Crédito_4                    object\n",
       "Monto solicitado            float64\n",
       "Días de Mora                  int64\n",
       "Monto Deuda Promedio        float64\n",
       "Número de meses inactivo      int64\n",
       "numero de cuotas              int64\n",
       "Aval                         object\n",
       "dtype: object"
      ]
     },
     "execution_count": 9,
     "metadata": {},
     "output_type": "execute_result"
    }
   ],
   "source": [
    "features.dtypes"
   ]
  },
  {
   "cell_type": "code",
   "execution_count": 10,
   "metadata": {},
   "outputs": [
    {
     "name": "stdout",
     "output_type": "stream",
     "text": [
      "      GENERO      RENTA  EDAD  NIV_EDUC  E_CIVIL  COD_OFI COD_COM  CIUDAD  \\\n",
      "0          0    463.000  55.0         3        0       27     226      15   \n",
      "1          0  1.200.000  59.0         3        0      121     226      15   \n",
      "2          0    526.000  49.0         4        1       59      88      65   \n",
      "3          1  1.500.000  47.0         5        1      138       1       4   \n",
      "4          1  2.600.000  41.0         5        0       60     291      50   \n",
      "5          0  1.250.000  30.0         3        2       63     300      10   \n",
      "6          1    724.000  47.0         5        0      138       1       4   \n",
      "7          1  1.196.000  53.0         5        0       27     226      15   \n",
      "8          0    510.000  39.0         3        0       96     131      56   \n",
      "9          1    685.000  51.0         5        0       82     108      65   \n",
      "10         1    760.000  55.0         5        2      138       1       4   \n",
      "11         1     57.300  40.0         5        0       90      80      65   \n",
      "12         0    558.000  45.0         5        0       31     119      65   \n",
      "13         1  2.854.000  53.0         4        0       27     226      15   \n",
      "14         1  2.000.000  47.0         5        2      138       1       4   \n",
      "15         1    659.000  50.0         5        2      138       1       4   \n",
      "16         1  5.620.000  43.0         5        0       40      80      65   \n",
      "17         1  2.000.000  61.0         4        0       24     124      19   \n",
      "18         1    820.000  36.0         5        0       54      88      65   \n",
      "19         1    500.000  40.0         4        0       88      67      76   \n",
      "20         0    600.000  51.0         5        0      138       1       4   \n",
      "21         0     70.000  51.0         3        2       50      98      65   \n",
      "22         0  6.800.000  34.0         4        2       19      80      65   \n",
      "23         1  1.502.000  45.0         5        0       31     119      65   \n",
      "24         0     50.000  45.0         4        1       16     313      44   \n",
      "25         1  1.160.000  50.0         5        0       83      85      65   \n",
      "26         0  2.200.000  38.0         5        2       84      85      65   \n",
      "27         0  5.010.000  38.0         4        2       53     100      65   \n",
      "28         1    762.000  45.0         3        2      103      93      65   \n",
      "29         1    750.000  35.0         4        0       16      89      65   \n",
      "...      ...        ...   ...       ...      ...      ...     ...     ...   \n",
      "2264       1     85.600  45.0         1        0       55      90      65   \n",
      "2265       1  5.104.000  49.0         5        0       31     119      65   \n",
      "2266       1    770.000  29.0         5        0       39      84      65   \n",
      "2267       1  1.000.000  41.0         3        0      144      93      65   \n",
      "2268       1    930.000  40.0         4        0       34      29      29   \n",
      "2269       0    450.000  51.0         4        0       82     105      65   \n",
      "2270       1    835.000  55.0         5        0       76      98      65   \n",
      "2271       0  7.400.000  31.0         4        2       14      22      16   \n",
      "2272       0     59.700  45.0         3        2       16      88      65   \n",
      "2273       1  1.030.000  43.0         4        0       31     119      65   \n",
      "2274       1  1.123.000  38.0         4        0       68     213      35   \n",
      "2275       0    450.000  41.0         3        0       90      98      65   \n",
      "2276       1  3.200.000  43.0         5        0       10       5      26   \n",
      "2277       1     51.000  45.0         3        0       55      90      65   \n",
      "2278       0    511.000  59.0         4        2       84      85      65   \n",
      "2279       0  6.570.000  36.0         4        2       84      88      65   \n",
      "2280       0    807.000  44.0         5        0      138       1       4   \n",
      "2281       0  8.600.000  39.0         4        2       66     253      70   \n",
      "2282       1  1.898.000  40.0         5        0      138       1       4   \n",
      "2283       1  1.500.000  46.0         3        0       19     115      65   \n",
      "2284       1    787.000  53.0         5        0       17      80      65   \n",
      "2285       1     70.000  46.0         3        0       55      90      65   \n",
      "2286       1  1.300.000  53.0         3        0       85      88      65   \n",
      "2287       1  2.750.000  37.0         3        0       24      83      65   \n",
      "2288       1  7.730.000  43.0         5        0       38      94      65   \n",
      "2289       0    850.000  34.0         5        0       83      89      65   \n",
      "2290       1    602.000  48.0         3        1       90      90      65   \n",
      "2291       0     64.800  50.0         3        2       65      77      22   \n",
      "2292       0    800.000  51.0         4        0       78     182      30   \n",
      "2293       1    476.000  28.0         5        2       52      80      65   \n",
      "\n",
      "       Crédito_1  Crédito_2   Crédito_3  Crédito_4  Monto solicitado  \\\n",
      "0              0     -4.030           0    292.673           142.000   \n",
      "1              0          0  27.797.549          0            16.000   \n",
      "2              0    750.000           0          0             0.000   \n",
      "3              0    976.444           0          0            13.000   \n",
      "4              0    115.440           0  4.500.000             7.960   \n",
      "5              0    799.000           0          0           147.000   \n",
      "6              0    500.000           0      1.963             0.000   \n",
      "7              0          0           0          0             0.000   \n",
      "8              0  1.050.000           0    279.914           305.000   \n",
      "9              0    164.272           0     99.401           114.000   \n",
      "10             0    800.000           0          0            41.000   \n",
      "11             0      3.292           0    220.383           720.000   \n",
      "12             0      9.521           0    241.673           733.000   \n",
      "13    10.224.716    153.716           0  3.000.000            14.176   \n",
      "14             0  1.296.000           0    200.000           964.000   \n",
      "15             0     81.964           0          0            76.000   \n",
      "16             0    839.481           0  2.689.049           500.000   \n",
      "17             0    500.000           0          0            89.000   \n",
      "18             0    500.000           0          0             0.000   \n",
      "19             0  1.117.500           0          0           174.000   \n",
      "20             0     13.476           0          0           279.000   \n",
      "21             0  1.300.000           0          0             0.000   \n",
      "22             0          0           0     93.283             1.028   \n",
      "23     2.296.794    425.354           0  1.649.683             3.005   \n",
      "24       332.606  1.198.000           0          0           358.000   \n",
      "25             0     12.044           0  1.099.284             3.595   \n",
      "26             0    491.609           0          0             8.000   \n",
      "27             0    224.185           0     49.141            53.000   \n",
      "28             0    250.000           0          0            17.000   \n",
      "29             0    490.455           0          0            48.000   \n",
      "...          ...        ...         ...        ...               ...   \n",
      "2264           0          0           0    400.000             0.000   \n",
      "2265           0          0           0  1.500.000             3.840   \n",
      "2266     716.281    388.050           0    263.031             1.142   \n",
      "2267           0          0           0          0             0.000   \n",
      "2268   3.190.810    800.000           0    439.853             3.845   \n",
      "2269           0    129.567           0    469.387           246.000   \n",
      "2270   1.001.973  1.074.440           0    978.720             1.130   \n",
      "2271           0          0           0          0             0.000   \n",
      "2272           0    700.000           0          0           769.000   \n",
      "2273           0    600.000           0          0             2.275   \n",
      "2274   1.286.925  1.858.426           0          0             1.712   \n",
      "2275           0          0           0          0             0.000   \n",
      "2276           0    956.620           0          0            86.000   \n",
      "2277           0  1.950.000           0          0             0.000   \n",
      "2278           0     78.010           0    200.000             1.036   \n",
      "2279           0    376.752           0          0             2.184   \n",
      "2280           0     31.676   3.030.482    500.000           728.000   \n",
      "2281           0          0           0          0           962.000   \n",
      "2282   4.026.312          0           0    370.468             5.598   \n",
      "2283           0  2.833.748           0          0           881.000   \n",
      "2284   1.493.566  1.289.990           0    205.949             1.760   \n",
      "2285           0    527.566           0    294.511           768.000   \n",
      "2286           0    766.842           0     10.679            32.000   \n",
      "2287           0  1.239.794           0  1.851.812           371.000   \n",
      "2288           0    298.681           0    135.836             1.274   \n",
      "2289           0    790.463           0  1.003.837           378.000   \n",
      "2290           0    700.000           0    193.871             0.000   \n",
      "2291           0     32.801           0    500.000           974.000   \n",
      "2292           0    250.000           0          0             0.000   \n",
      "2293           0    250.000           0          0           239.000   \n",
      "\n",
      "      Días de Mora  Monto Deuda Promedio  Número de meses inactivo  \\\n",
      "0                0                81.000                         1   \n",
      "1                0                34.519                         1   \n",
      "2                0                 8.016                         0   \n",
      "3               10                25.323                         1   \n",
      "4               14                 4.566                         3   \n",
      "5                0                 0.000                         1   \n",
      "6                0                 2.000                         1   \n",
      "7                4                 0.000                         1   \n",
      "8                0                 0.000                         1   \n",
      "9                0                 1.152                         1   \n",
      "10               0                 0.000                         1   \n",
      "11               0                12.014                         2   \n",
      "12               0               258.000                         2   \n",
      "13               0                52.949                         3   \n",
      "14              59                26.225                         2   \n",
      "15               0                 0.000                         1   \n",
      "16              60                 3.520                         2   \n",
      "17               0                53.118                         1   \n",
      "18               0                64.276                         0   \n",
      "19               0                 0.000                         1   \n",
      "20               0                 0.000                         1   \n",
      "21              30                 3.358                         0   \n",
      "22               0               491.000                         1   \n",
      "23              37                 3.037                         1   \n",
      "24               0                 0.000                         1   \n",
      "25               4                 5.361                         3   \n",
      "26              45                 0.000                         1   \n",
      "27               0                 0.000                         1   \n",
      "28               0                 0.000                         1   \n",
      "29              13               225.000                         1   \n",
      "...            ...                   ...                       ...   \n",
      "2264             0               408.000                         1   \n",
      "2265             0               154.087                         1   \n",
      "2266             0               268.000                         1   \n",
      "2267             0                 2.000                         0   \n",
      "2268            29                 0.000                         2   \n",
      "2269             0               224.000                         1   \n",
      "2270             0               962.000                         2   \n",
      "2271             0                17.000                         0   \n",
      "2272             0                 0.000                         1   \n",
      "2273             0                 2.000                         1   \n",
      "2274             0                 0.000                         1   \n",
      "2275            10                 0.000                         0   \n",
      "2276            46                 0.000                         1   \n",
      "2277             4                 0.000                         1   \n",
      "2278             0               204.000                         1   \n",
      "2279             0                 0.000                         1   \n",
      "2280             0                 4.047                         1   \n",
      "2281            43                 7.184                         1   \n",
      "2282             7               378.000                         2   \n",
      "2283             0                 4.000                         2   \n",
      "2284            75               228.000                         1   \n",
      "2285            15               856.000                         1   \n",
      "2286             0                 0.000                         1   \n",
      "2287            41                 6.318                         1   \n",
      "2288             0               699.000                         3   \n",
      "2289             0               834.000                         1   \n",
      "2290             0                 0.000                         1   \n",
      "2291             0                 7.283                         1   \n",
      "2292             0                 7.257                         0   \n",
      "2293             0                12.000                         1   \n",
      "\n",
      "      numero de cuotas  Aval  \n",
      "0                   18     0  \n",
      "1                   60     0  \n",
      "2                   14     0  \n",
      "3                   66     0  \n",
      "4                   77     1  \n",
      "5                   55     0  \n",
      "6                   24     0  \n",
      "7                   60     0  \n",
      "8                   10     0  \n",
      "9                   26     0  \n",
      "10                  30     0  \n",
      "11                  43     0  \n",
      "12                  15     0  \n",
      "13                  30     1  \n",
      "14                  80     0  \n",
      "15                  26     0  \n",
      "16                  47     0  \n",
      "17                  80     0  \n",
      "18                  36     0  \n",
      "19                   9     0  \n",
      "20                  22     0  \n",
      "21                  62     1  \n",
      "22                  14     0  \n",
      "23                  46     0  \n",
      "24                   9     1  \n",
      "25                  23     0  \n",
      "26                  80     0  \n",
      "27                  16     0  \n",
      "28                  36     1  \n",
      "29                  33     0  \n",
      "...                ...   ...  \n",
      "2264                25     0  \n",
      "2265                80     0  \n",
      "2266                28     0  \n",
      "2267                50     0  \n",
      "2268                 7     0  \n",
      "2269                16     0  \n",
      "2270                21     0  \n",
      "2271                40     0  \n",
      "2272                13     1  \n",
      "2273                29     0  \n",
      "2274                25     0  \n",
      "2275                18     0  \n",
      "2276                80     0  \n",
      "2277                80     0  \n",
      "2278                11     1  \n",
      "2279                31     0  \n",
      "2280                34     0  \n",
      "2281                48     0  \n",
      "2282                58     1  \n",
      "2283                47     0  \n",
      "2284                12     0  \n",
      "2285                43     0  \n",
      "2286                58     0  \n",
      "2287                80     0  \n",
      "2288                 9     0  \n",
      "2289                35     1  \n",
      "2290                18     0  \n",
      "2291                66     1  \n",
      "2292                38     0  \n",
      "2293                17     0  \n",
      "\n",
      "[2240 rows x 18 columns]\n"
     ]
    },
    {
     "name": "stderr",
     "output_type": "stream",
     "text": [
      "D:\\Anaconda3\\lib\\site-packages\\ipykernel_launcher.py:2: SettingWithCopyWarning: \n",
      "A value is trying to be set on a copy of a slice from a DataFrame.\n",
      "Try using .loc[row_indexer,col_indexer] = value instead\n",
      "\n",
      "See the caveats in the documentation: http://pandas.pydata.org/pandas-docs/stable/indexing.html#indexing-view-versus-copy\n",
      "  \n",
      "D:\\Anaconda3\\lib\\site-packages\\ipykernel_launcher.py:3: SettingWithCopyWarning: \n",
      "A value is trying to be set on a copy of a slice from a DataFrame.\n",
      "Try using .loc[row_indexer,col_indexer] = value instead\n",
      "\n",
      "See the caveats in the documentation: http://pandas.pydata.org/pandas-docs/stable/indexing.html#indexing-view-versus-copy\n",
      "  This is separate from the ipykernel package so we can avoid doing imports until\n",
      "D:\\Anaconda3\\lib\\site-packages\\ipykernel_launcher.py:4: SettingWithCopyWarning: \n",
      "A value is trying to be set on a copy of a slice from a DataFrame.\n",
      "Try using .loc[row_indexer,col_indexer] = value instead\n",
      "\n",
      "See the caveats in the documentation: http://pandas.pydata.org/pandas-docs/stable/indexing.html#indexing-view-versus-copy\n",
      "  after removing the cwd from sys.path.\n",
      "D:\\Anaconda3\\lib\\site-packages\\ipykernel_launcher.py:5: SettingWithCopyWarning: \n",
      "A value is trying to be set on a copy of a slice from a DataFrame.\n",
      "Try using .loc[row_indexer,col_indexer] = value instead\n",
      "\n",
      "See the caveats in the documentation: http://pandas.pydata.org/pandas-docs/stable/indexing.html#indexing-view-versus-copy\n",
      "  \"\"\"\n",
      "D:\\Anaconda3\\lib\\site-packages\\ipykernel_launcher.py:6: SettingWithCopyWarning: \n",
      "A value is trying to be set on a copy of a slice from a DataFrame.\n",
      "Try using .loc[row_indexer,col_indexer] = value instead\n",
      "\n",
      "See the caveats in the documentation: http://pandas.pydata.org/pandas-docs/stable/indexing.html#indexing-view-versus-copy\n",
      "  \n"
     ]
    }
   ],
   "source": [
    "labelencoder_X = LabelEncoder()\n",
    "features['GENERO'] = labelencoder_X.fit_transform(features['GENERO'])\n",
    "features['NIV_EDUC'] = labelencoder_X.fit_transform(features['NIV_EDUC'])\n",
    "features['E_CIVIL'] = labelencoder_X.fit_transform(features['E_CIVIL'])\n",
    "features['CIUDAD'] = labelencoder_X.fit_transform(features['CIUDAD'])\n",
    "features['Aval'] = labelencoder_X.fit_transform(features['Aval'])\n",
    "print(features)\n",
    "#print(features.values)"
   ]
  },
  {
   "cell_type": "code",
   "execution_count": 11,
   "metadata": {},
   "outputs": [
    {
     "data": {
      "text/plain": [
       "GENERO                        int64\n",
       "RENTA                        object\n",
       "EDAD                        float64\n",
       "NIV_EDUC                      int64\n",
       "E_CIVIL                       int64\n",
       "COD_OFI                       int64\n",
       "COD_COM                      object\n",
       "CIUDAD                        int64\n",
       "Crédito_1                    object\n",
       "Crédito_2                    object\n",
       "Crédito_3                    object\n",
       "Crédito_4                    object\n",
       "Monto solicitado            float64\n",
       "Días de Mora                  int64\n",
       "Monto Deuda Promedio        float64\n",
       "Número de meses inactivo      int64\n",
       "numero de cuotas              int64\n",
       "Aval                          int64\n",
       "dtype: object"
      ]
     },
     "execution_count": 11,
     "metadata": {},
     "output_type": "execute_result"
    }
   ],
   "source": [
    "features.dtypes"
   ]
  },
  {
   "cell_type": "code",
   "execution_count": 12,
   "metadata": {},
   "outputs": [
    {
     "name": "stdout",
     "output_type": "stream",
     "text": [
      "[0 '463.000' 55.0 3 0 27 '226' 15 '0' '-4.030' '0' '292.673' 142.0 0 81.0\n",
      " 1 18 0]\n",
      "[0 '1.200.000' 59.0 3 0 121 '226' 15 '0' '0' '27.797.549' '0' 16.0 0\n",
      " 34.519 1 60 0]\n",
      "[1 '2.600.000' 41.0 5 0 60 '291' 50 '0' '115.440' '0' '4.500.000' 7.96 14\n",
      " 4.566 3 77 1]\n",
      "[0 463000 55.0 3 0 27 226 15 0 -4030 0 292673 142.0 0 81.0 1 18 0]\n",
      "[0 1200000 59.0 3 0 121 226 15 0 0 27797549 0 16.0 0 34.519 1 60 0]\n",
      "[1 2600000 41.0 5 0 60 291 50 0 115440 0 4500000 7960.0 14 4.566 3 77 1]\n"
     ]
    }
   ],
   "source": [
    "features_arr=features.values.copy()\n",
    "print(features_arr[0])\n",
    "print(features_arr[1])\n",
    "print(features_arr[4])\n",
    "\n",
    "for i in range(0,len(features_arr)):\n",
    "    #RENTA\n",
    "    features_arr[i][1]=int(re.sub('\\.','',features_arr[i][1]))    \n",
    "    features_arr[i][8]=int(re.sub('\\.','',features_arr[i][8]))\n",
    "    features_arr[i][9]=int(re.sub('\\.','',features_arr[i][9]))\n",
    "    features_arr[i][10]=int(re.sub('\\.','',features_arr[i][10]))\n",
    "    features_arr[i][11]=int(re.sub('\\.','',features_arr[i][11]))\n",
    "    #MONTO SoLICITADO\n",
    "    if features_arr[i][12]-int(features_arr[i][12])>0.0:\n",
    "        features_arr[i][12]=features_arr[i][12]*1000\n",
    "    if features_arr[i][6] != ' ':\n",
    "        features_arr[i][6]=int(features_arr[i][6])\n",
    "    else:\n",
    "        features_arr[i][6]=-1\n",
    "\n",
    "#words = [w.replace('[br]', '<br />') for w in words]\n",
    "\n",
    "print(features_arr[0])\n",
    "print(features_arr[1])\n",
    "print(features_arr[4])"
   ]
  },
  {
   "cell_type": "code",
   "execution_count": null,
   "metadata": {},
   "outputs": [],
   "source": []
  },
  {
   "cell_type": "code",
   "execution_count": 13,
   "metadata": {},
   "outputs": [],
   "source": [
    "# División de conjuntos de Entrenamiento, Test y Validacion\n",
    "featEntVal, featTest, classEntVal, classTest = train_test_split(features_arr, y_data, test_size = 0.2, train_size = 0.8, stratify=y_data)\n",
    "featEnt, featVal, classEnt, classVal = train_test_split(featEntVal, classEntVal, test_size = 0.25, stratify=classEntVal)"
   ]
  },
  {
   "cell_type": "code",
   "execution_count": 14,
   "metadata": {},
   "outputs": [],
   "source": [
    "# Primer Clasificador con Redes Neuronales\n",
    "clf1 = MLPClassifier(solver='lbfgs',activation=\"relu\", hidden_layer_sizes = 20, early_stopping = True, validation_fraction = 0.25)\n",
    "clf1.fit(featEntVal, classEntVal)\n",
    "classPredict1 = clf1.predict(featVal)\n",
    "confusionMatrix1 = confusion_matrix(classVal, classPredict1)"
   ]
  },
  {
   "cell_type": "code",
   "execution_count": 15,
   "metadata": {},
   "outputs": [
    {
     "name": "stderr",
     "output_type": "stream",
     "text": [
      "D:\\Anaconda3\\lib\\site-packages\\sklearn\\utils\\validation.py:475: DataConversionWarning: Data with input dtype object was converted to float64 by StandardScaler.\n",
      "  warnings.warn(msg, DataConversionWarning)\n"
     ]
    }
   ],
   "source": [
    "#Segundo Clasificador con SVM\n",
    "from sklearn.preprocessing import StandardScaler\n",
    "\n",
    "sFeatEnt = StandardScaler().fit(featEnt)\n",
    "nFeatEnt = sFeatEnt.transform(featEnt)\n",
    "\n",
    "sFeatVal = StandardScaler().fit(featVal)\n",
    "nFeatVal = sFeatVal.transform(featVal)\n",
    "\n",
    "sFeatTest = StandardScaler().fit(featTest)\n",
    "nFeatTest = sFeatTest.transform(featTest)\n",
    "\n",
    "from sklearn.svm import *\n",
    "\n",
    "clf2 = LinearSVC()\n",
    "clf2.fit(nFeatEnt, classEnt)\n",
    "classPredict2 = np.argmax(clf2.decision_function(nFeatVal))\n",
    "#confusionMatrix2 = confusion_matrix(classVal, classPredict2)"
   ]
  },
  {
   "cell_type": "code",
   "execution_count": 16,
   "metadata": {},
   "outputs": [],
   "source": [
    "#Tercer Clasificador con Bayes\n",
    "from sklearn.naive_bayes import GaussianNB\n",
    "clf3 = GaussianNB()\n",
    "clf3.fit(featEnt, classEnt)\n",
    "GaussianNB(priors=None)\n",
    "classPredict3 = clf3.predict(featVal)\n",
    "confusionMatrix3 = confusion_matrix(classVal, classPredict3)"
   ]
  },
  {
   "cell_type": "code",
   "execution_count": 17,
   "metadata": {},
   "outputs": [
    {
     "data": {
      "image/png": "[encoded data removed]",
      "text/plain": [
       "<Figure size 432x360 with 2 Axes>"
      ]
     },
     "metadata": {},
     "output_type": "display_data"
    },
    {
     "name": "stdout",
     "output_type": "stream",
     "text": [
      "% de aciertos del clasificador es: 54.910714285714285\n"
     ]
    },
    {
     "data": {
      "image/png": "[encoded data removed]",
      "text/plain": [
       "<Figure size 432x360 with 2 Axes>"
      ]
     },
     "metadata": {},
     "output_type": "display_data"
    },
    {
     "name": "stdout",
     "output_type": "stream",
     "text": [
      "% de aciertos del clasificador es: 61.830357142857146\n"
     ]
    }
   ],
   "source": [
    "from functions import *\n",
    "clases=['No Paga','Paga']\n",
    "plot_confusion_matrix('d',True,confusionMatrix1,clases,clases,False,'Matriz de Confusión del Conjunto de Validación utilizando Redes Neuronales \\n')\n",
    "print('% de aciertos del clasificador es: '+str(np.trace(confusionMatrix1)*100/featVal.shape[0]))\n",
    "#plot_confusion_matrix('d',True,confusionMatrix2,clases,clases,False,'Matriz de Confusión del Conjunto de Validación utilizando SVM \\n')\n",
    "#print('% de aciertos del clasificador es: '+str(np.trace(confusionMatrix2)*100/featVal.shape[0]))\n",
    "plot_confusion_matrix('d',True,confusionMatrix3,clases,clases,False,'Matriz de Confusión del Conjunto de Validación utilizando Naive Bayes \\n')\n",
    "print('% de aciertos del clasificador es: '+str(np.trace(confusionMatrix3)*100/featVal.shape[0]))"
   ]
  },
  {
   "cell_type": "code",
   "execution_count": 18,
   "metadata": {},
   "outputs": [],
   "source": [
    "from sklearn.feature_selection import SelectKBest\n",
    "from sklearn.feature_selection import mutual_info_classif\n",
    "var_k = 4\n",
    "selector = SelectKBest(score_func=mutual_info_classif, k=var_k).fit(featEnt, classEnt)\n",
    "\n",
    "featEntValn= selector.transform(featEntVal)\n",
    "featEntn= selector.transform(featEnt)\n",
    "featValn=selector.transform(featVal)\n",
    "featTestn=selector.transform(featTest)\n",
    "\n",
    "scoresKBest = selector.scores_"
   ]
  },
  {
   "cell_type": "code",
   "execution_count": 19,
   "metadata": {},
   "outputs": [
    {
     "data": {
      "image/png": "[encoded data removed]",
      "text/plain": [
       "<Figure size 576x720 with 1 Axes>"
      ]
     },
     "metadata": {},
     "output_type": "display_data"
    }
   ],
   "source": [
    "caractstr = ('Genero', 'Renta', 'Edad', 'Niv_Edu', 'E_Civil', 'Cod_Oficina', 'Cod_Comuna', 'Ciudad', 'Crédito_1', 'Crédito_2', 'Crédito_3', 'Crédito_4', 'Monto Solicitado', 'Días de Mora', 'Monto Deuda Promedio', 'Número de meses inactivo', 'Número de Cuotas', 'Aval')\n",
    "\n",
    "plot_scores(selector, scoresKBest, caractstr)"
   ]
  },
  {
   "cell_type": "code",
   "execution_count": 20,
   "metadata": {},
   "outputs": [],
   "source": [
    "#Nuevo Clasificador de Redes Neuronales\n",
    "var_hidden = int(20)\n",
    "clf4 = MLPClassifier(solver='lbfgs',activation=\"relu\", hidden_layer_sizes = var_hidden, early_stopping = True, validation_fraction = 0.25)\n",
    "clf4.fit(featEntValn, classEntVal)\n",
    "classPredict4 = clf4.predict(featValn)\n",
    "confusionMatrix4 = confusion_matrix(classVal, classPredict4)"
   ]
  },
  {
   "cell_type": "code",
   "execution_count": 22,
   "metadata": {},
   "outputs": [],
   "source": [
    "#Nuevo Clasificador con Bayes\n",
    "from sklearn.naive_bayes import GaussianNB\n",
    "clf3 = GaussianNB()\n",
    "clf3.fit(featEntn, classEnt)\n",
    "GaussianNB(priors=None)\n",
    "classPredict5 = clf3.predict(featValn)\n",
    "confusionMatrix5 = confusion_matrix(classVal, classPredict5)"
   ]
  },
  {
   "cell_type": "code",
   "execution_count": 24,
   "metadata": {},
   "outputs": [
    {
     "data": {
      "image/png": "[encoded data removed]",
      "text/plain": [
       "<Figure size 432x360 with 2 Axes>"
      ]
     },
     "metadata": {},
     "output_type": "display_data"
    },
    {
     "name": "stdout",
     "output_type": "stream",
     "text": [
      "% de aciertos del clasificador es: 83.48214285714286\n"
     ]
    },
    {
     "data": {
      "image/png": "[encoded data removed]",
      "text/plain": [
       "<Figure size 432x360 with 2 Axes>"
      ]
     },
     "metadata": {},
     "output_type": "display_data"
    },
    {
     "name": "stdout",
     "output_type": "stream",
     "text": [
      "% de aciertos del clasificador es: 71.875\n"
     ]
    }
   ],
   "source": [
    "plot_confusion_matrix('d',True,confusionMatrix4,clases,clases,False,'Matriz de Confusión del Conjunto de Validación utilizando Redes Neuronales \\n')\n",
    "print('% de aciertos del clasificador es: '+str(np.trace(confusionMatrix4)*100/featVal.shape[0]))\n",
    "plot_confusion_matrix('d',True,confusionMatrix5,clases,clases,False,'Matriz de Confusión del Conjunto de Validación utilizando Naive Bayes \\n')\n",
    "print('% de aciertos del clasificador es: '+str(np.trace(confusionMatrix5)*100/featVal.shape[0]))"
   ]
  },
  {
   "cell_type": "code",
   "execution_count": null,
   "metadata": {},
   "outputs": [],
   "source": []
  },
  {
   "cell_type": "code",
   "execution_count": null,
   "metadata": {},
   "outputs": [],
   "source": []
  },
  {
   "cell_type": "code",
   "execution_count": null,
   "metadata": {},
   "outputs": [],
   "source": []
  }
 ],
 "metadata": {
  "kernelspec": {
   "display_name": "Python 3",
   "language": "python",
   "name": "python3"
  },
  "language_info": {
   "codemirror_mode": {
    "name": "ipython",
    "version": 3
   },
   "file_extension": ".py",
   "mimetype": "text/x-python",
   "name": "python",
   "nbconvert_exporter": "python",
   "pygments_lexer": "ipython3",
   "version": "3.6.5"
  }
 },
 "nbformat": 4,
 "nbformat_minor": 2
}
